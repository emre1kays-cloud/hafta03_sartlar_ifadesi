{
 "cells": [
  {
   "cell_type": "markdown",
   "metadata": {},
   "source": [
    "# soru 1\n",
    "Bir havanın sıcaklik değerine göre yüksek derece normal derece veya düşük derece olarak mesaj yazdıran bir fonksiyon tanımlayın\n",
    "\n",
    "eğer 38 dereceden yüksekse yüksek sıcaklik return ersin\n",
    "\n",
    "eğer 35 dereceden yüksekse normal sıcaklik return etsin\n",
    "\n",
    "değilse düşük sıcaklik return etsin."
   ]
  },
  {
   "cell_type": "code",
   "execution_count": 1,
   "metadata": {},
   "outputs": [],
   "source": [
    "def hava_degerlendir(sicaklik:float)->str:\n",
    "    \"\"\"\n",
    "    Bu fonksiyon havanın sıcaklık derecesine göre hava durumu gösterir\n",
    "    sicaklik -> havanın sıcaklık derecesi\n",
    "    \"\"\"\n",
    "\n",
    "    if sicaklik >= 38:\n",
    "        hava_durumu:str = 'Yüksek Sıcaklık'\n",
    "    elif sicaklik >= 35:\n",
    "        hava_durumu:str = 'Normal Sıcaklık'\n",
    "    else:\n",
    "        hava_durumu:str = 'Düşük Sıcaklık'\n",
    "    return hava_durumu"
   ]
  },
  {
   "cell_type": "code",
   "execution_count": 2,
   "metadata": {},
   "outputs": [
    {
     "name": "stdout",
     "output_type": "stream",
     "text": [
      "1.Günün Hava Durumu: Yüksek Sıcaklık\n"
     ]
    }
   ],
   "source": [
    "gun_1 = hava_degerlendir(39.0)\n",
    "print(f\"1.Günün Hava Durumu: {gun_1}\")"
   ]
  },
  {
   "cell_type": "code",
   "execution_count": 3,
   "metadata": {},
   "outputs": [
    {
     "name": "stdout",
     "output_type": "stream",
     "text": [
      "2.Günün Hava Durumu: Normal Sıcaklık\n"
     ]
    }
   ],
   "source": [
    "gun_2 = hava_degerlendir(37.8)\n",
    "print(f\"2.Günün Hava Durumu: {gun_2}\")"
   ]
  },
  {
   "cell_type": "markdown",
   "metadata": {},
   "source": [
    "# Soru 2\n",
    "Diyelim ki bir eczanede kalfasınız ve ilacın kutu ağırlığına göre hasta kaç mg ilaç verilmesi gerektiğini söylemeniz gerekiyor ve işinizde python kullanmayı seviyorsunuz.\n",
    "\n",
    "eğer ilaç 5.2kg altındaysa 1.25 mg doz ilaç verilecek\n",
    "\n",
    "7.9kg altındaysa 2.5 mg doz verilecek\n",
    "\n",
    "10.4kg altındaysa 3.75mg doz ilaç verilcek\n",
    "\n",
    "15.9kg altındaysa 5.0mg doz ilaç verilcek\n",
    "\n",
    "21.2kg altındaysa 7.5mg doz ilaç verilcek\n",
    "\n",
    "21.2 k üstü tüm ilaçlar için 10 mg doz ilaç verilecektir.\n",
    "\n",
    "Bunu yapan bir fonksiyon tanımlayın."
   ]
  },
  {
   "cell_type": "code",
   "execution_count": 8,
   "metadata": {},
   "outputs": [],
   "source": [
    "def doz_hesaplama(ilac_agirligi:float)->float:\n",
    "    \"\"\"\n",
    "    Bu fonksiyon girilen ilaç ağırlığına göre kaç doz ilaç verilmesi gerektiğini hesaplar\n",
    "    \"\"\"\n",
    "    if ilac_agirligi <= 5.2:\n",
    "        doz:float = 1.25\n",
    "    elif ilac_agirligi <= 7.9:\n",
    "        doz:float = 2.5\n",
    "    elif ilac_agirligi <= 10.4:\n",
    "        doz:float = 3.75\n",
    "    elif ilac_agirligi <= 15.9:\n",
    "        doz:float = 5.0\n",
    "    elif ilac_agirligi <= 21.2:\n",
    "        doz:float = 7.5\n",
    "    else:\n",
    "        doz = 10.0\n",
    "    return doz"
   ]
  },
  {
   "cell_type": "code",
   "execution_count": 5,
   "metadata": {},
   "outputs": [
    {
     "data": {
      "text/plain": [
       "5.0"
      ]
     },
     "execution_count": 5,
     "metadata": {},
     "output_type": "execute_result"
    }
   ],
   "source": [
    "doz_hesaplama(12.3)"
   ]
  },
  {
   "cell_type": "code",
   "execution_count": 6,
   "metadata": {},
   "outputs": [
    {
     "data": {
      "text/plain": [
       "5.0"
      ]
     },
     "execution_count": 6,
     "metadata": {},
     "output_type": "execute_result"
    }
   ],
   "source": [
    "doz_hesaplama(15.7)"
   ]
  },
  {
   "cell_type": "code",
   "execution_count": 9,
   "metadata": {},
   "outputs": [
    {
     "data": {
      "text/plain": [
       "10.0"
      ]
     },
     "execution_count": 9,
     "metadata": {},
     "output_type": "execute_result"
    }
   ],
   "source": [
    "doz_hesaplama(21.6)"
   ]
  },
  {
   "cell_type": "code",
   "execution_count": 10,
   "metadata": {},
   "outputs": [
    {
     "data": {
      "text/plain": [
       "1.25"
      ]
     },
     "execution_count": 10,
     "metadata": {},
     "output_type": "execute_result"
    }
   ],
   "source": [
    "doz_hesaplama(4.2)"
   ]
  },
  {
   "cell_type": "code",
   "execution_count": null,
   "metadata": {},
   "outputs": [],
   "source": []
  }
 ],
 "metadata": {
  "kernelspec": {
   "display_name": "Python 3",
   "language": "python",
   "name": "python3"
  },
  "language_info": {
   "codemirror_mode": {
    "name": "ipython",
    "version": 3
   },
   "file_extension": ".py",
   "mimetype": "text/x-python",
   "name": "python",
   "nbconvert_exporter": "python",
   "pygments_lexer": "ipython3",
   "version": "3.12.1"
  }
 },
 "nbformat": 4,
 "nbformat_minor": 2
}
