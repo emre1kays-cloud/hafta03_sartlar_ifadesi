{
 "cells": [
  {
   "cell_type": "markdown",
   "metadata": {},
   "source": [
    "Bir ev dekarasyoncusu olduğunuzu düşünelim. bir müşterinin evini boyayacaksınız. İşinizde python kullanmayı seviyorsunuz. Bir odanın boyama maliyetini hesaplayan bir fonksiyon oluşturacaksınız.\n",
    "\n",
    "        *İlk adım olarak getCost() adında bir fonksiyon oluşturup fonksiyon ismini tanımlayın.Bu fonksiyonun alacağı parametreler aşağıdaki gibidir.\n",
    "        ---> sqftWalls --> Boyanacak duvarın toplam metrekaresini ifade eder.\n",
    "        ---> sqftCeiling --> Boyanacak tavanın toplam metrekaresini ifade eder.\n",
    "        ---> sqftPerLtr --> Her litre için kaç metrekare duvarın boyanacağını ifade eder.\n",
    "        ---> costPerLtr --> 1 litre boyanın maliyetini ifade eder.\n",
    "\n",
    "Bu fonksiyon Odadaki tavanın ve duvarın boyama masrafını return edilmesi bekleniyor. İhtiyacınız olan boya miktarını düşünün.(Örn: eğer 7.3443Lt boyaya ihtiyacınız varsa 8 litre boya satın alabilirsiniz.) Bu fonksiyonu tanımlayın ve çağırın.\n",
    "\n",
    "Bodypart: \n",
    "\n",
    "        1.Aşama: totalSqft = sqftWalls + sqftCeiling\n",
    "        2.Aşama: litreNeeded = totalSqft / sqftPerLtr\n",
    "        3.Aşama: cost = costperLtr * litreNeeded\n",
    "\n",
    "Senaryo: \n",
    "\n",
    "        432 metrekare duvar boyanacak\n",
    "        144 metrekare tavan boyanacak\n",
    "        1 litre boya ile 250 metrekare alan boyanabildiğini ve 1 litre boyanın 15 dolar olduğunu düşünelim."
   ]
  },
  {
   "cell_type": "code",
   "execution_count": 4,
   "metadata": {},
   "outputs": [],
   "source": [
    "import math"
   ]
  },
  {
   "cell_type": "code",
   "execution_count": null,
   "metadata": {},
   "outputs": [],
   "source": [
    "# Tanımlama\n",
    "def getCost(sqftWalls:float,sqftCeiling:float,sqftPerLtr:float,costPerLtr:float)->float:\n",
    "    \"\"\"\n",
    "    Bir ev dekarasyoncusu olduğunuzu düşünelim. bir müşterinin evini boyayacaksınız. İşinizde python kullanmayı seviyorsunuz. Bir odanın boyama maliyetini hesaplayan bir fonksiyon oluşturacaksınız.\n",
    "\n",
    "        *İlk adım olarak getCost() adında bir fonksiyon oluşturup fonksiyon ismini tanımlayın.Bu fonksiyonun alacağı parametreler aşağıdaki gibidir.\n",
    "        ---> sqftWalls --> Boyanacak duvarın toplam metrekaresini ifade eder.\n",
    "        ---> sqftCeiling --> Boyanacak tavanın toplam metrekaresini ifade eder.\n",
    "        ---> sqftPerLtr --> Her litre için kaç metrekare duvarın boyanacağını ifade eder.\n",
    "        ---> costPerLtr --> 1 litre boyanın maliyetini ifade eder.\n",
    "    \"\"\"\n",
    "    totalSqft:float = sqftWalls + sqftCeiling # toplam metrekareyi bulduk\n",
    "    litreNeeded:float = totalSqft / sqftPerLtr #Odayı boyamak için kaç litre gerektiğini bulduk\n",
    "    correctLitre:float = math.ceil(litreNeeded)# Doğru alınması gereken litreyi hesapladık\n",
    "    cost:float = costPerLtr * correctLitre # Odayı boyayıcak maliyeti bulduk\n",
    "    return cost\n"
   ]
  },
  {
   "cell_type": "code",
   "execution_count": 12,
   "metadata": {},
   "outputs": [
    {
     "name": "stdout",
     "output_type": "stream",
     "text": [
      "Evin toplam boyama maliyeti: 105.0'dır.\n"
     ]
    }
   ],
   "source": [
    "salon = getCost(432.0,134.0,250.0,15.0)\n",
    "mutfak = getCost(242.0,120.0,250.0,15.0)\n",
    "cocuk_odasi = getCost(147.0,89.0,150.0,15.0)\n",
    "toplam_ev:float = salon + mutfak + cocuk_odasi\n",
    "\n",
    "\n",
    "print(f\"Evin toplam boyama maliyeti: {toplam_ev}'dır.\")"
   ]
  },
  {
   "cell_type": "code",
   "execution_count": null,
   "metadata": {},
   "outputs": [],
   "source": [
    "# Konu anlatım\n",
    "import math\n",
    "dir(math)"
   ]
  },
  {
   "cell_type": "code",
   "execution_count": 3,
   "metadata": {},
   "outputs": [
    {
     "data": {
      "text/plain": [
       "5"
      ]
     },
     "execution_count": 3,
     "metadata": {},
     "output_type": "execute_result"
    }
   ],
   "source": [
    "testValue = 4.3212213\n",
    "math.ceil(testValue)"
   ]
  },
  {
   "cell_type": "markdown",
   "metadata": {},
   "source": []
  }
 ],
 "metadata": {
  "kernelspec": {
   "display_name": "Python 3",
   "language": "python",
   "name": "python3"
  },
  "language_info": {
   "codemirror_mode": {
    "name": "ipython",
    "version": 3
   },
   "file_extension": ".py",
   "mimetype": "text/x-python",
   "name": "python",
   "nbconvert_exporter": "python",
   "pygments_lexer": "ipython3",
   "version": "3.12.1"
  }
 },
 "nbformat": 4,
 "nbformat_minor": 2
}
