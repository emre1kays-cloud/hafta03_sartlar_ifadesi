{
 "cells": [
  {
   "cell_type": "markdown",
   "metadata": {},
   "source": [
    "# Şartlı İfadeler Giriş"
   ]
  },
  {
   "cell_type": "markdown",
   "metadata": {},
   "source": [
    "Parametrelerin inputlarına göre farklı aksiyon alan fonksiyonlar tanımlamamız gerekiyor. Bunu sayesinde daha esnek fonksiyonlar geliştirebiliriz."
   ]
  },
  {
   "cell_type": "markdown",
   "metadata": {},
   "source": [
    "bes_ekle(sayi) isimli bir fonksiyon tanimlarsak bes_ekle(4)-> 9 değerini verecektir. bes_ekle(10) -> 15 değerini verecektir.\n",
    "ama ben bes_yada_on_ekle(sayi) gibi bir fonksiyon tanımlarsam eğer 7 in altında bir sayi girersem 5 ekleyecek eğer 7 'in üstünde bir sayi girersem 10 ekleyecektir."
   ]
  },
  {
   "cell_type": "code",
   "execution_count": 1,
   "metadata": {},
   "outputs": [],
   "source": [
    "def bes_ekle(sayi:int)->int:\n",
    "    toplama = sayi + 5\n",
    "    return toplama"
   ]
  },
  {
   "cell_type": "code",
   "execution_count": 2,
   "metadata": {},
   "outputs": [
    {
     "data": {
      "text/plain": [
       "15"
      ]
     },
     "execution_count": 2,
     "metadata": {},
     "output_type": "execute_result"
    }
   ],
   "source": [
    "bes_ekle(10)"
   ]
  },
  {
   "cell_type": "code",
   "execution_count": 3,
   "metadata": {},
   "outputs": [
    {
     "data": {
      "text/plain": [
       "12"
      ]
     },
     "execution_count": 3,
     "metadata": {},
     "output_type": "execute_result"
    }
   ],
   "source": [
    "bes_ekle(7)"
   ]
  },
  {
   "cell_type": "markdown",
   "metadata": {},
   "source": [
    "# if statements(ifadeleri)\n",
    "\n",
    "if ifadeleri ikili koşullarda kullanılan şart yapısıdır."
   ]
  },
  {
   "cell_type": "code",
   "execution_count": 1,
   "metadata": {},
   "outputs": [],
   "source": [
    "def bes_yada_on_ekle(sayi:int)->int:\n",
    "    if sayi <= 7:\n",
    "        toplama = sayi + 5 # eğer True çalışırsa burası çalışıcak\n",
    "        return toplama\n",
    "    toplama = sayi + 10\n",
    "    return toplama\n",
    "\n"
   ]
  },
  {
   "cell_type": "code",
   "execution_count": 2,
   "metadata": {},
   "outputs": [
    {
     "name": "stdout",
     "output_type": "stream",
     "text": [
      "12\n"
     ]
    }
   ],
   "source": [
    "print(bes_yada_on_ekle(7))"
   ]
  },
  {
   "cell_type": "code",
   "execution_count": null,
   "metadata": {},
   "outputs": [
    {
     "data": {
      "text/plain": [
       "20"
      ]
     },
     "execution_count": 9,
     "metadata": {},
     "output_type": "execute_result"
    }
   ],
   "source": [
    "print(bes_yada_on_ekle(10))"
   ]
  },
  {
   "cell_type": "markdown",
   "metadata": {},
   "source": [
    "# Else ifadesi"
   ]
  },
  {
   "cell_type": "markdown",
   "metadata": {},
   "source": [
    "eğer if ifadesinden başka bir ihtimal kalmadığından eminsek son ihtimal için aksiyon aldırmak amacıyla kullanılır."
   ]
  },
  {
   "cell_type": "markdown",
   "metadata": {},
   "source": [
    "Eğer dolapta yemek varsa yicem eğer dolapta yemek yoksa dışarıdan söyleyeceğim. YANLIŞ\n",
    "\n",
    "Eğer dolapta yemek varsa yicem yoksa dışarıdan söyleyeceğim. DOĞRU\n"
   ]
  },
  {
   "cell_type": "code",
   "execution_count": null,
   "metadata": {},
   "outputs": [],
   "source": [
    "def bes_yada_on_ekle(sayi:int)->int:\n",
    "    if sayi <= 7:\n",
    "        toplama = sayi + 5 # eğer True çalışırsa burası çalışıcak\n",
    "    else:\n",
    "        toplama = sayi + 10\n",
    "        \n",
    "    return toplama\n",
    "\n"
   ]
  },
  {
   "cell_type": "code",
   "execution_count": 11,
   "metadata": {},
   "outputs": [
    {
     "name": "stdout",
     "output_type": "stream",
     "text": [
      "20\n"
     ]
    }
   ],
   "source": [
    "print(bes_yada_on_ekle(10))"
   ]
  },
  {
   "cell_type": "markdown",
   "metadata": {},
   "source": [
    "# Elif ifadesi --> Else + İf birleşimi gibi\n",
    "Eğer birden fazla koşul varsa 2,3,4,5 gibi koşullu ifadelerde elif kullanılır.\n"
   ]
  },
  {
   "cell_type": "code",
   "execution_count": 12,
   "metadata": {},
   "outputs": [],
   "source": [
    "def bes_yada_on_ekle(sayi:int)->int:\n",
    "    if sayi < 7:\n",
    "        toplama = sayi + 5 # eğer True çalışırsa burası çalışıcak\n",
    "    elif sayi == 7: # Eşitse True Değilse False\n",
    "        toplama = sayi + 8\n",
    "    else:\n",
    "        toplama = sayi + 10\n",
    "    return toplama\n"
   ]
  },
  {
   "cell_type": "code",
   "execution_count": null,
   "metadata": {},
   "outputs": [
    {
     "name": "stdout",
     "output_type": "stream",
     "text": [
      "15\n"
     ]
    }
   ],
   "source": [
    "print(bes_yada_on_ekle(7))"
   ]
  },
  {
   "cell_type": "markdown",
   "metadata": {},
   "source": [
    "Bir okulda öğretmen olduğunuzu düşünelim ve öğrencilerin notlarını hesaplıcaksınız. Öğrencilerin notları 0-100 arasında puanlardır. Ama siz e-okula (A,B,C,D,F) olarak girmeniz gerekiyor. Buradaki harflerin her biri bir puan aralığını temsil eder. Bu puan aralığına göre öğrencilerin notlarını sınıflandırcaksınız.\n",
    "\n",
    "\"A\" - any grade 90-100, inclusive\n",
    "\n",
    "\"B\" - any grade 80-89, inclusive\n",
    "\n",
    "\"C\" - any grade 70-79, inclusive\n",
    "\n",
    "\"D\" - any grade 60-69, inclusive\n",
    "\n",
    "\"F\" - any grade <60\n",
    "\n",
    "İlk çağırmada öğrenci 85 puan alsın. B grade'i atayın. --> getGrade(85) return B"
   ]
  },
  {
   "cell_type": "code",
   "execution_count": 10,
   "metadata": {},
   "outputs": [],
   "source": [
    "def getGrade(not_:int)->str:\n",
    "    if not_ <= 100 and not_ >= 90:\n",
    "        score:str = 'A'\n",
    "    elif not_ <= 89 and not_ >= 80:\n",
    "        score:str = 'B'\n",
    "    elif not_ <= 79 and not_ >= 70:\n",
    "        score:str = 'C'\n",
    "        return score\n",
    "    elif not_ <= 69 and not_ >= 60:\n",
    "        score:str = 'D'\n",
    "    else:\n",
    "        score:str = 'F'\n",
    "    return score"
   ]
  },
  {
   "cell_type": "code",
   "execution_count": 11,
   "metadata": {},
   "outputs": [
    {
     "name": "stdout",
     "output_type": "stream",
     "text": [
      "D\n"
     ]
    }
   ],
   "source": [
    "print(getGrade(60))"
   ]
  },
  {
   "cell_type": "markdown",
   "metadata": {},
   "source": [
    "# Soru 1"
   ]
  },
  {
   "cell_type": "markdown",
   "metadata": {},
   "source": [
    "sicaklik_degerlend"
   ]
  },
  {
   "cell_type": "markdown",
   "metadata": {},
   "source": []
  },
  {
   "cell_type": "code",
   "execution_count": null,
   "metadata": {},
   "outputs": [],
   "source": []
  },
  {
   "cell_type": "markdown",
   "metadata": {},
   "source": []
  },
  {
   "cell_type": "markdown",
   "metadata": {},
   "source": []
  }
 ],
 "metadata": {
  "kernelspec": {
   "display_name": "Python 3",
   "language": "python",
   "name": "python3"
  },
  "language_info": {
   "codemirror_mode": {
    "name": "ipython",
    "version": 3
   },
   "file_extension": ".py",
   "mimetype": "text/x-python",
   "name": "python",
   "nbconvert_exporter": "python",
   "pygments_lexer": "ipython3",
   "version": "3.12.1"
  }
 },
 "nbformat": 4,
 "nbformat_minor": 2
}
